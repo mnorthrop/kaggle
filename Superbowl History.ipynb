{
 "cells": [
  {
   "cell_type": "markdown",
   "metadata": {},
   "source": [
    "# Superbowl History\n",
    "\n",
    "### Context\n",
    "The Superbowl is an annual American football game that determines the champion of the National Football League (NFL). The game culminates a season that begins in the previous calendar year, and is the conclusion of the NFL playoffs. The contest is held in an American City, chosen three to four years beforehand, usually at warm-weather sites or domed stadiums. Since January 1971, the winner of the American Football Conference (AFC) Championship Game has faced the winner of the National Football Conference (NFC) Championship Game in the culmination of the NFL playoffs. \n",
    "\n",
    "### Content\n",
    "This dataset contains data about the Superbowl finals from 1967 to 2020. It's simple and straightforward, one row per Superbowl. \n",
    "\n",
    "### Acknowledgements\n",
    "Data from https://www.pro-football-reference.com/super-bowl"
   ]
  },
  {
   "cell_type": "code",
   "execution_count": 78,
   "metadata": {
    "collapsed": true
   },
   "outputs": [],
   "source": [
    "import pandas as pd\n",
    "import numpy as np\n",
    "import matplotlib.pyplot as plt\n",
    "import seaborn as sns\n",
    "%matplotlib inline"
   ]
  },
  {
   "cell_type": "markdown",
   "metadata": {},
   "source": [
    "## Data Cleaning\n",
    "***\n",
    "- Dropping columns that provide ancillary information that are not very descriptive of the Superbowls themselves: '<font face=\"Trebuchet MS\" color=CadetBlue>SB</font>', '<font face=\"Trebuchet MS\" color=CadetBlue>MVP</font>' and '<font face=\"Trebuchet MS\" color=CadetBlue>Stadium</font>'\n",
    "- Changing the Index to '<font face=\"Trebuchet MS\" color=CadetBlue>Date</font>'\n",
    "- Renaming some columns"
   ]
  },
  {
   "cell_type": "code",
   "execution_count": 79,
   "metadata": {},
   "outputs": [
    {
     "data": {
      "text/html": [
       "<div>\n",
       "<style>\n",
       "    .dataframe thead tr:only-child th {\n",
       "        text-align: right;\n",
       "    }\n",
       "\n",
       "    .dataframe thead th {\n",
       "        text-align: left;\n",
       "    }\n",
       "\n",
       "    .dataframe tbody tr th {\n",
       "        vertical-align: top;\n",
       "    }\n",
       "</style>\n",
       "<table border=\"1\" class=\"dataframe\">\n",
       "  <thead>\n",
       "    <tr style=\"text-align: right;\">\n",
       "      <th></th>\n",
       "      <th>Date</th>\n",
       "      <th>SB</th>\n",
       "      <th>Winner</th>\n",
       "      <th>Winner Pts</th>\n",
       "      <th>Loser</th>\n",
       "      <th>Loser Pts</th>\n",
       "      <th>MVP</th>\n",
       "      <th>Stadium</th>\n",
       "      <th>City</th>\n",
       "      <th>State</th>\n",
       "    </tr>\n",
       "  </thead>\n",
       "  <tbody>\n",
       "    <tr>\n",
       "      <th>0</th>\n",
       "      <td>Feb 2 2020</td>\n",
       "      <td>LIV (54)</td>\n",
       "      <td>Kansas City Chiefs</td>\n",
       "      <td>31</td>\n",
       "      <td>San Francisco 49ers</td>\n",
       "      <td>20</td>\n",
       "      <td>Patrick Mahomes</td>\n",
       "      <td>Hard Rock Stadium</td>\n",
       "      <td>Miami Gardens</td>\n",
       "      <td>Florida</td>\n",
       "    </tr>\n",
       "    <tr>\n",
       "      <th>1</th>\n",
       "      <td>Feb 3 2019</td>\n",
       "      <td>LIII (53)</td>\n",
       "      <td>New England Patriots</td>\n",
       "      <td>13</td>\n",
       "      <td>Los Angeles Rams</td>\n",
       "      <td>3</td>\n",
       "      <td>Julian Edelman</td>\n",
       "      <td>Mercedes-Benz Stadium</td>\n",
       "      <td>Atlanta</td>\n",
       "      <td>Georgia</td>\n",
       "    </tr>\n",
       "    <tr>\n",
       "      <th>2</th>\n",
       "      <td>Feb 4 2018</td>\n",
       "      <td>LII (52)</td>\n",
       "      <td>Philadelphia Eagles</td>\n",
       "      <td>41</td>\n",
       "      <td>New England Patriots</td>\n",
       "      <td>33</td>\n",
       "      <td>Nick Foles</td>\n",
       "      <td>U.S. Bank Stadium</td>\n",
       "      <td>Minneapolis</td>\n",
       "      <td>Minnesota</td>\n",
       "    </tr>\n",
       "    <tr>\n",
       "      <th>3</th>\n",
       "      <td>Feb 5 2017</td>\n",
       "      <td>LI (51)</td>\n",
       "      <td>New England Patriots</td>\n",
       "      <td>34</td>\n",
       "      <td>Atlanta Falcons</td>\n",
       "      <td>28</td>\n",
       "      <td>Tom Brady</td>\n",
       "      <td>NRG Stadium</td>\n",
       "      <td>Houston</td>\n",
       "      <td>Texas</td>\n",
       "    </tr>\n",
       "    <tr>\n",
       "      <th>4</th>\n",
       "      <td>Feb 7 2016</td>\n",
       "      <td>50</td>\n",
       "      <td>Denver Broncos</td>\n",
       "      <td>24</td>\n",
       "      <td>Carolina Panthers</td>\n",
       "      <td>10</td>\n",
       "      <td>Von Miller</td>\n",
       "      <td>Levi's Stadium</td>\n",
       "      <td>Santa Clara</td>\n",
       "      <td>California</td>\n",
       "    </tr>\n",
       "  </tbody>\n",
       "</table>\n",
       "</div>"
      ],
      "text/plain": [
       "         Date         SB                Winner  Winner Pts  \\\n",
       "0  Feb 2 2020   LIV (54)    Kansas City Chiefs          31   \n",
       "1  Feb 3 2019  LIII (53)  New England Patriots          13   \n",
       "2  Feb 4 2018   LII (52)   Philadelphia Eagles          41   \n",
       "3  Feb 5 2017    LI (51)  New England Patriots          34   \n",
       "4  Feb 7 2016         50        Denver Broncos          24   \n",
       "\n",
       "                  Loser  Loser Pts              MVP                Stadium  \\\n",
       "0   San Francisco 49ers         20  Patrick Mahomes      Hard Rock Stadium   \n",
       "1      Los Angeles Rams          3   Julian Edelman  Mercedes-Benz Stadium   \n",
       "2  New England Patriots         33       Nick Foles      U.S. Bank Stadium   \n",
       "3       Atlanta Falcons         28        Tom Brady            NRG Stadium   \n",
       "4     Carolina Panthers         10       Von Miller         Levi's Stadium   \n",
       "\n",
       "            City       State  \n",
       "0  Miami Gardens     Florida  \n",
       "1        Atlanta     Georgia  \n",
       "2    Minneapolis   Minnesota  \n",
       "3        Houston       Texas  \n",
       "4    Santa Clara  California  "
      ]
     },
     "execution_count": 79,
     "metadata": {},
     "output_type": "execute_result"
    }
   ],
   "source": [
    "df = pd.read_csv('superbowl.csv')\n",
    "df.head()"
   ]
  },
  {
   "cell_type": "code",
   "execution_count": 80,
   "metadata": {},
   "outputs": [
    {
     "data": {
      "text/html": [
       "<div>\n",
       "<style>\n",
       "    .dataframe thead tr:only-child th {\n",
       "        text-align: right;\n",
       "    }\n",
       "\n",
       "    .dataframe thead th {\n",
       "        text-align: left;\n",
       "    }\n",
       "\n",
       "    .dataframe tbody tr th {\n",
       "        vertical-align: top;\n",
       "    }\n",
       "</style>\n",
       "<table border=\"1\" class=\"dataframe\">\n",
       "  <thead>\n",
       "    <tr style=\"text-align: right;\">\n",
       "      <th></th>\n",
       "      <th>Date</th>\n",
       "      <th>Winner</th>\n",
       "      <th>Winner Pts</th>\n",
       "      <th>Loser</th>\n",
       "      <th>Loser Pts</th>\n",
       "      <th>Stadium</th>\n",
       "      <th>City</th>\n",
       "      <th>State</th>\n",
       "    </tr>\n",
       "  </thead>\n",
       "  <tbody>\n",
       "    <tr>\n",
       "      <th>0</th>\n",
       "      <td>Feb 2 2020</td>\n",
       "      <td>Kansas City Chiefs</td>\n",
       "      <td>31</td>\n",
       "      <td>San Francisco 49ers</td>\n",
       "      <td>20</td>\n",
       "      <td>Hard Rock Stadium</td>\n",
       "      <td>Miami Gardens</td>\n",
       "      <td>Florida</td>\n",
       "    </tr>\n",
       "    <tr>\n",
       "      <th>1</th>\n",
       "      <td>Feb 3 2019</td>\n",
       "      <td>New England Patriots</td>\n",
       "      <td>13</td>\n",
       "      <td>Los Angeles Rams</td>\n",
       "      <td>3</td>\n",
       "      <td>Mercedes-Benz Stadium</td>\n",
       "      <td>Atlanta</td>\n",
       "      <td>Georgia</td>\n",
       "    </tr>\n",
       "    <tr>\n",
       "      <th>2</th>\n",
       "      <td>Feb 4 2018</td>\n",
       "      <td>Philadelphia Eagles</td>\n",
       "      <td>41</td>\n",
       "      <td>New England Patriots</td>\n",
       "      <td>33</td>\n",
       "      <td>U.S. Bank Stadium</td>\n",
       "      <td>Minneapolis</td>\n",
       "      <td>Minnesota</td>\n",
       "    </tr>\n",
       "    <tr>\n",
       "      <th>3</th>\n",
       "      <td>Feb 5 2017</td>\n",
       "      <td>New England Patriots</td>\n",
       "      <td>34</td>\n",
       "      <td>Atlanta Falcons</td>\n",
       "      <td>28</td>\n",
       "      <td>NRG Stadium</td>\n",
       "      <td>Houston</td>\n",
       "      <td>Texas</td>\n",
       "    </tr>\n",
       "    <tr>\n",
       "      <th>4</th>\n",
       "      <td>Feb 7 2016</td>\n",
       "      <td>Denver Broncos</td>\n",
       "      <td>24</td>\n",
       "      <td>Carolina Panthers</td>\n",
       "      <td>10</td>\n",
       "      <td>Levi's Stadium</td>\n",
       "      <td>Santa Clara</td>\n",
       "      <td>California</td>\n",
       "    </tr>\n",
       "  </tbody>\n",
       "</table>\n",
       "</div>"
      ],
      "text/plain": [
       "         Date                Winner  Winner Pts                 Loser  \\\n",
       "0  Feb 2 2020    Kansas City Chiefs          31   San Francisco 49ers   \n",
       "1  Feb 3 2019  New England Patriots          13      Los Angeles Rams   \n",
       "2  Feb 4 2018   Philadelphia Eagles          41  New England Patriots   \n",
       "3  Feb 5 2017  New England Patriots          34       Atlanta Falcons   \n",
       "4  Feb 7 2016        Denver Broncos          24     Carolina Panthers   \n",
       "\n",
       "   Loser Pts                Stadium           City       State  \n",
       "0         20      Hard Rock Stadium  Miami Gardens     Florida  \n",
       "1          3  Mercedes-Benz Stadium        Atlanta     Georgia  \n",
       "2         33      U.S. Bank Stadium    Minneapolis   Minnesota  \n",
       "3         28            NRG Stadium        Houston       Texas  \n",
       "4         10         Levi's Stadium    Santa Clara  California  "
      ]
     },
     "execution_count": 80,
     "metadata": {},
     "output_type": "execute_result"
    }
   ],
   "source": [
    "to_drop = ['MVP', 'SB']\n",
    "df.drop(to_drop, inplace=True, axis=1)\n",
    "df.head()"
   ]
  },
  {
   "cell_type": "code",
   "execution_count": 81,
   "metadata": {},
   "outputs": [
    {
     "data": {
      "text/plain": [
       "True"
      ]
     },
     "execution_count": 81,
     "metadata": {},
     "output_type": "execute_result"
    }
   ],
   "source": [
    "df['Date'].is_unique"
   ]
  },
  {
   "cell_type": "code",
   "execution_count": 82,
   "metadata": {},
   "outputs": [
    {
     "data": {
      "text/html": [
       "<div>\n",
       "<style>\n",
       "    .dataframe thead tr:only-child th {\n",
       "        text-align: right;\n",
       "    }\n",
       "\n",
       "    .dataframe thead th {\n",
       "        text-align: left;\n",
       "    }\n",
       "\n",
       "    .dataframe tbody tr th {\n",
       "        vertical-align: top;\n",
       "    }\n",
       "</style>\n",
       "<table border=\"1\" class=\"dataframe\">\n",
       "  <thead>\n",
       "    <tr style=\"text-align: right;\">\n",
       "      <th></th>\n",
       "      <th>Winner</th>\n",
       "      <th>Winner Pts</th>\n",
       "      <th>Loser</th>\n",
       "      <th>Loser Pts</th>\n",
       "      <th>Stadium</th>\n",
       "      <th>City</th>\n",
       "      <th>State</th>\n",
       "    </tr>\n",
       "    <tr>\n",
       "      <th>Date</th>\n",
       "      <th></th>\n",
       "      <th></th>\n",
       "      <th></th>\n",
       "      <th></th>\n",
       "      <th></th>\n",
       "      <th></th>\n",
       "      <th></th>\n",
       "    </tr>\n",
       "  </thead>\n",
       "  <tbody>\n",
       "    <tr>\n",
       "      <th>2020-02-02</th>\n",
       "      <td>Kansas City Chiefs</td>\n",
       "      <td>31</td>\n",
       "      <td>San Francisco 49ers</td>\n",
       "      <td>20</td>\n",
       "      <td>Hard Rock Stadium</td>\n",
       "      <td>Miami Gardens</td>\n",
       "      <td>Florida</td>\n",
       "    </tr>\n",
       "    <tr>\n",
       "      <th>2019-02-03</th>\n",
       "      <td>New England Patriots</td>\n",
       "      <td>13</td>\n",
       "      <td>Los Angeles Rams</td>\n",
       "      <td>3</td>\n",
       "      <td>Mercedes-Benz Stadium</td>\n",
       "      <td>Atlanta</td>\n",
       "      <td>Georgia</td>\n",
       "    </tr>\n",
       "    <tr>\n",
       "      <th>2018-02-04</th>\n",
       "      <td>Philadelphia Eagles</td>\n",
       "      <td>41</td>\n",
       "      <td>New England Patriots</td>\n",
       "      <td>33</td>\n",
       "      <td>U.S. Bank Stadium</td>\n",
       "      <td>Minneapolis</td>\n",
       "      <td>Minnesota</td>\n",
       "    </tr>\n",
       "    <tr>\n",
       "      <th>2017-02-05</th>\n",
       "      <td>New England Patriots</td>\n",
       "      <td>34</td>\n",
       "      <td>Atlanta Falcons</td>\n",
       "      <td>28</td>\n",
       "      <td>NRG Stadium</td>\n",
       "      <td>Houston</td>\n",
       "      <td>Texas</td>\n",
       "    </tr>\n",
       "    <tr>\n",
       "      <th>2016-02-07</th>\n",
       "      <td>Denver Broncos</td>\n",
       "      <td>24</td>\n",
       "      <td>Carolina Panthers</td>\n",
       "      <td>10</td>\n",
       "      <td>Levi's Stadium</td>\n",
       "      <td>Santa Clara</td>\n",
       "      <td>California</td>\n",
       "    </tr>\n",
       "  </tbody>\n",
       "</table>\n",
       "</div>"
      ],
      "text/plain": [
       "                          Winner  Winner Pts                 Loser  Loser Pts  \\\n",
       "Date                                                                            \n",
       "2020-02-02    Kansas City Chiefs          31   San Francisco 49ers         20   \n",
       "2019-02-03  New England Patriots          13      Los Angeles Rams          3   \n",
       "2018-02-04   Philadelphia Eagles          41  New England Patriots         33   \n",
       "2017-02-05  New England Patriots          34       Atlanta Falcons         28   \n",
       "2016-02-07        Denver Broncos          24     Carolina Panthers         10   \n",
       "\n",
       "                          Stadium           City       State  \n",
       "Date                                                          \n",
       "2020-02-02      Hard Rock Stadium  Miami Gardens     Florida  \n",
       "2019-02-03  Mercedes-Benz Stadium        Atlanta     Georgia  \n",
       "2018-02-04      U.S. Bank Stadium    Minneapolis   Minnesota  \n",
       "2017-02-05            NRG Stadium        Houston       Texas  \n",
       "2016-02-07         Levi's Stadium    Santa Clara  California  "
      ]
     },
     "execution_count": 82,
     "metadata": {},
     "output_type": "execute_result"
    }
   ],
   "source": [
    "df['Date'] = pd.to_datetime(df['Date'])\n",
    "df = df.set_index('Date')\n",
    "df.head()"
   ]
  },
  {
   "cell_type": "code",
   "execution_count": 83,
   "metadata": {},
   "outputs": [
    {
     "data": {
      "text/plain": [
       "int64     2\n",
       "object    5\n",
       "dtype: int64"
      ]
     },
     "execution_count": 83,
     "metadata": {},
     "output_type": "execute_result"
    }
   ],
   "source": [
    "df.get_dtype_counts()"
   ]
  },
  {
   "cell_type": "code",
   "execution_count": 84,
   "metadata": {},
   "outputs": [
    {
     "data": {
      "text/plain": [
       "Winner        0\n",
       "Winner Pts    0\n",
       "Loser         0\n",
       "Loser Pts     0\n",
       "Stadium       0\n",
       "City          0\n",
       "State         0\n",
       "dtype: int64"
      ]
     },
     "execution_count": 84,
     "metadata": {},
     "output_type": "execute_result"
    }
   ],
   "source": [
    "df.isnull().sum()"
   ]
  },
  {
   "cell_type": "code",
   "execution_count": 85,
   "metadata": {},
   "outputs": [
    {
     "data": {
      "text/html": [
       "<div>\n",
       "<style>\n",
       "    .dataframe thead tr:only-child th {\n",
       "        text-align: right;\n",
       "    }\n",
       "\n",
       "    .dataframe thead th {\n",
       "        text-align: left;\n",
       "    }\n",
       "\n",
       "    .dataframe tbody tr th {\n",
       "        vertical-align: top;\n",
       "    }\n",
       "</style>\n",
       "<table border=\"1\" class=\"dataframe\">\n",
       "  <thead>\n",
       "    <tr style=\"text-align: right;\">\n",
       "      <th></th>\n",
       "      <th>Winning_Team</th>\n",
       "      <th>Winning_Pts</th>\n",
       "      <th>Losing_Team</th>\n",
       "      <th>Losing_Pts</th>\n",
       "      <th>Stadium</th>\n",
       "      <th>City</th>\n",
       "      <th>State</th>\n",
       "    </tr>\n",
       "    <tr>\n",
       "      <th>Date</th>\n",
       "      <th></th>\n",
       "      <th></th>\n",
       "      <th></th>\n",
       "      <th></th>\n",
       "      <th></th>\n",
       "      <th></th>\n",
       "      <th></th>\n",
       "    </tr>\n",
       "  </thead>\n",
       "  <tbody>\n",
       "    <tr>\n",
       "      <th>2020-02-02</th>\n",
       "      <td>Kansas City Chiefs</td>\n",
       "      <td>31</td>\n",
       "      <td>San Francisco 49ers</td>\n",
       "      <td>20</td>\n",
       "      <td>Hard Rock Stadium</td>\n",
       "      <td>Miami Gardens</td>\n",
       "      <td>Florida</td>\n",
       "    </tr>\n",
       "    <tr>\n",
       "      <th>2019-02-03</th>\n",
       "      <td>New England Patriots</td>\n",
       "      <td>13</td>\n",
       "      <td>Los Angeles Rams</td>\n",
       "      <td>3</td>\n",
       "      <td>Mercedes-Benz Stadium</td>\n",
       "      <td>Atlanta</td>\n",
       "      <td>Georgia</td>\n",
       "    </tr>\n",
       "    <tr>\n",
       "      <th>2018-02-04</th>\n",
       "      <td>Philadelphia Eagles</td>\n",
       "      <td>41</td>\n",
       "      <td>New England Patriots</td>\n",
       "      <td>33</td>\n",
       "      <td>U.S. Bank Stadium</td>\n",
       "      <td>Minneapolis</td>\n",
       "      <td>Minnesota</td>\n",
       "    </tr>\n",
       "    <tr>\n",
       "      <th>2017-02-05</th>\n",
       "      <td>New England Patriots</td>\n",
       "      <td>34</td>\n",
       "      <td>Atlanta Falcons</td>\n",
       "      <td>28</td>\n",
       "      <td>NRG Stadium</td>\n",
       "      <td>Houston</td>\n",
       "      <td>Texas</td>\n",
       "    </tr>\n",
       "    <tr>\n",
       "      <th>2016-02-07</th>\n",
       "      <td>Denver Broncos</td>\n",
       "      <td>24</td>\n",
       "      <td>Carolina Panthers</td>\n",
       "      <td>10</td>\n",
       "      <td>Levi's Stadium</td>\n",
       "      <td>Santa Clara</td>\n",
       "      <td>California</td>\n",
       "    </tr>\n",
       "  </tbody>\n",
       "</table>\n",
       "</div>"
      ],
      "text/plain": [
       "                    Winning_Team  Winning_Pts           Losing_Team  \\\n",
       "Date                                                                  \n",
       "2020-02-02    Kansas City Chiefs           31   San Francisco 49ers   \n",
       "2019-02-03  New England Patriots           13      Los Angeles Rams   \n",
       "2018-02-04   Philadelphia Eagles           41  New England Patriots   \n",
       "2017-02-05  New England Patriots           34       Atlanta Falcons   \n",
       "2016-02-07        Denver Broncos           24     Carolina Panthers   \n",
       "\n",
       "            Losing_Pts                Stadium           City       State  \n",
       "Date                                                                      \n",
       "2020-02-02          20      Hard Rock Stadium  Miami Gardens     Florida  \n",
       "2019-02-03           3  Mercedes-Benz Stadium        Atlanta     Georgia  \n",
       "2018-02-04          33      U.S. Bank Stadium    Minneapolis   Minnesota  \n",
       "2017-02-05          28            NRG Stadium        Houston       Texas  \n",
       "2016-02-07          10         Levi's Stadium    Santa Clara  California  "
      ]
     },
     "execution_count": 85,
     "metadata": {},
     "output_type": "execute_result"
    }
   ],
   "source": [
    "new_names = {'Winner': 'Winning_Team',\n",
    "             'Winner Pts': 'Winning_Pts',\n",
    "             'Loser': 'Losing_Team',\n",
    "             'Loser Pts': 'Losing_Pts'}\n",
    "df.rename(columns=new_names, inplace=True)\n",
    "df.head()"
   ]
  },
  {
   "cell_type": "code",
   "execution_count": 86,
   "metadata": {},
   "outputs": [
    {
     "data": {
      "text/html": [
       "<div>\n",
       "<style>\n",
       "    .dataframe thead tr:only-child th {\n",
       "        text-align: right;\n",
       "    }\n",
       "\n",
       "    .dataframe thead th {\n",
       "        text-align: left;\n",
       "    }\n",
       "\n",
       "    .dataframe tbody tr th {\n",
       "        vertical-align: top;\n",
       "    }\n",
       "</style>\n",
       "<table border=\"1\" class=\"dataframe\">\n",
       "  <thead>\n",
       "    <tr style=\"text-align: right;\">\n",
       "      <th></th>\n",
       "      <th>Winning_Team</th>\n",
       "      <th>Winning_Pts</th>\n",
       "      <th>Losing_Team</th>\n",
       "      <th>Losing_Pts</th>\n",
       "      <th>Stadium</th>\n",
       "      <th>City</th>\n",
       "      <th>State</th>\n",
       "    </tr>\n",
       "    <tr>\n",
       "      <th>Date</th>\n",
       "      <th></th>\n",
       "      <th></th>\n",
       "      <th></th>\n",
       "      <th></th>\n",
       "      <th></th>\n",
       "      <th></th>\n",
       "      <th></th>\n",
       "    </tr>\n",
       "  </thead>\n",
       "  <tbody>\n",
       "  </tbody>\n",
       "</table>\n",
       "</div>"
      ],
      "text/plain": [
       "Empty DataFrame\n",
       "Columns: [Winning_Team, Winning_Pts, Losing_Team, Losing_Pts, Stadium, City, State]\n",
       "Index: []"
      ]
     },
     "execution_count": 86,
     "metadata": {},
     "output_type": "execute_result"
    }
   ],
   "source": [
    "duplicateRowsDF = df[df.duplicated()]\n",
    "duplicateRowsDF"
   ]
  },
  {
   "cell_type": "markdown",
   "metadata": {},
   "source": [
    "## Exploratory Analysis\n",
    "***"
   ]
  },
  {
   "cell_type": "code",
   "execution_count": 87,
   "metadata": {},
   "outputs": [
    {
     "data": {
      "text/html": [
       "<div>\n",
       "<style>\n",
       "    .dataframe thead tr:only-child th {\n",
       "        text-align: right;\n",
       "    }\n",
       "\n",
       "    .dataframe thead th {\n",
       "        text-align: left;\n",
       "    }\n",
       "\n",
       "    .dataframe tbody tr th {\n",
       "        vertical-align: top;\n",
       "    }\n",
       "</style>\n",
       "<table border=\"1\" class=\"dataframe\">\n",
       "  <thead>\n",
       "    <tr style=\"text-align: right;\">\n",
       "      <th></th>\n",
       "      <th>Winning_Team</th>\n",
       "      <th>Winning_Pts</th>\n",
       "      <th>Losing_Team</th>\n",
       "      <th>Losing_Pts</th>\n",
       "      <th>Stadium</th>\n",
       "      <th>City</th>\n",
       "      <th>State</th>\n",
       "    </tr>\n",
       "  </thead>\n",
       "  <tbody>\n",
       "    <tr>\n",
       "      <th>count</th>\n",
       "      <td>54</td>\n",
       "      <td>54.000000</td>\n",
       "      <td>54</td>\n",
       "      <td>54.000000</td>\n",
       "      <td>54</td>\n",
       "      <td>54</td>\n",
       "      <td>54</td>\n",
       "    </tr>\n",
       "    <tr>\n",
       "      <th>unique</th>\n",
       "      <td>22</td>\n",
       "      <td>NaN</td>\n",
       "      <td>26</td>\n",
       "      <td>NaN</td>\n",
       "      <td>33</td>\n",
       "      <td>20</td>\n",
       "      <td>10</td>\n",
       "    </tr>\n",
       "    <tr>\n",
       "      <th>top</th>\n",
       "      <td>New England Patriots</td>\n",
       "      <td>NaN</td>\n",
       "      <td>Denver Broncos</td>\n",
       "      <td>NaN</td>\n",
       "      <td>Louisiana Superdome</td>\n",
       "      <td>New Orleans</td>\n",
       "      <td>Florida</td>\n",
       "    </tr>\n",
       "    <tr>\n",
       "      <th>freq</th>\n",
       "      <td>6</td>\n",
       "      <td>NaN</td>\n",
       "      <td>5</td>\n",
       "      <td>NaN</td>\n",
       "      <td>5</td>\n",
       "      <td>10</td>\n",
       "      <td>16</td>\n",
       "    </tr>\n",
       "    <tr>\n",
       "      <th>mean</th>\n",
       "      <td>NaN</td>\n",
       "      <td>30.111111</td>\n",
       "      <td>NaN</td>\n",
       "      <td>16.203704</td>\n",
       "      <td>NaN</td>\n",
       "      <td>NaN</td>\n",
       "      <td>NaN</td>\n",
       "    </tr>\n",
       "    <tr>\n",
       "      <th>std</th>\n",
       "      <td>NaN</td>\n",
       "      <td>9.766455</td>\n",
       "      <td>NaN</td>\n",
       "      <td>7.413348</td>\n",
       "      <td>NaN</td>\n",
       "      <td>NaN</td>\n",
       "      <td>NaN</td>\n",
       "    </tr>\n",
       "    <tr>\n",
       "      <th>min</th>\n",
       "      <td>NaN</td>\n",
       "      <td>13.000000</td>\n",
       "      <td>NaN</td>\n",
       "      <td>3.000000</td>\n",
       "      <td>NaN</td>\n",
       "      <td>NaN</td>\n",
       "      <td>NaN</td>\n",
       "    </tr>\n",
       "    <tr>\n",
       "      <th>25%</th>\n",
       "      <td>NaN</td>\n",
       "      <td>23.250000</td>\n",
       "      <td>NaN</td>\n",
       "      <td>10.000000</td>\n",
       "      <td>NaN</td>\n",
       "      <td>NaN</td>\n",
       "      <td>NaN</td>\n",
       "    </tr>\n",
       "    <tr>\n",
       "      <th>50%</th>\n",
       "      <td>NaN</td>\n",
       "      <td>30.500000</td>\n",
       "      <td>NaN</td>\n",
       "      <td>17.000000</td>\n",
       "      <td>NaN</td>\n",
       "      <td>NaN</td>\n",
       "      <td>NaN</td>\n",
       "    </tr>\n",
       "    <tr>\n",
       "      <th>75%</th>\n",
       "      <td>NaN</td>\n",
       "      <td>35.000000</td>\n",
       "      <td>NaN</td>\n",
       "      <td>21.000000</td>\n",
       "      <td>NaN</td>\n",
       "      <td>NaN</td>\n",
       "      <td>NaN</td>\n",
       "    </tr>\n",
       "    <tr>\n",
       "      <th>max</th>\n",
       "      <td>NaN</td>\n",
       "      <td>55.000000</td>\n",
       "      <td>NaN</td>\n",
       "      <td>33.000000</td>\n",
       "      <td>NaN</td>\n",
       "      <td>NaN</td>\n",
       "      <td>NaN</td>\n",
       "    </tr>\n",
       "  </tbody>\n",
       "</table>\n",
       "</div>"
      ],
      "text/plain": [
       "                Winning_Team  Winning_Pts     Losing_Team  Losing_Pts  \\\n",
       "count                     54    54.000000              54   54.000000   \n",
       "unique                    22          NaN              26         NaN   \n",
       "top     New England Patriots          NaN  Denver Broncos         NaN   \n",
       "freq                       6          NaN               5         NaN   \n",
       "mean                     NaN    30.111111             NaN   16.203704   \n",
       "std                      NaN     9.766455             NaN    7.413348   \n",
       "min                      NaN    13.000000             NaN    3.000000   \n",
       "25%                      NaN    23.250000             NaN   10.000000   \n",
       "50%                      NaN    30.500000             NaN   17.000000   \n",
       "75%                      NaN    35.000000             NaN   21.000000   \n",
       "max                      NaN    55.000000             NaN   33.000000   \n",
       "\n",
       "                    Stadium         City    State  \n",
       "count                    54           54       54  \n",
       "unique                   33           20       10  \n",
       "top     Louisiana Superdome  New Orleans  Florida  \n",
       "freq                      5           10       16  \n",
       "mean                    NaN          NaN      NaN  \n",
       "std                     NaN          NaN      NaN  \n",
       "min                     NaN          NaN      NaN  \n",
       "25%                     NaN          NaN      NaN  \n",
       "50%                     NaN          NaN      NaN  \n",
       "75%                     NaN          NaN      NaN  \n",
       "max                     NaN          NaN      NaN  "
      ]
     },
     "execution_count": 87,
     "metadata": {},
     "output_type": "execute_result"
    }
   ],
   "source": [
    "df.describe(include='all')"
   ]
  },
  {
   "cell_type": "code",
   "execution_count": 89,
   "metadata": {},
   "outputs": [
    {
     "data": {
      "text/plain": [
       "<matplotlib.axes._subplots.AxesSubplot at 0x2809279cb70>"
      ]
     },
     "execution_count": 89,
     "metadata": {},
     "output_type": "execute_result"
    },
    {
     "data": {
      "image/png": "[encoded data removed]",
      "text/plain": [
       "<matplotlib.figure.Figure at 0x28092f44fd0>"
      ]
     },
     "metadata": {},
     "output_type": "display_data"
    }
   ],
   "source": [
    "df['Winning_Team'].value_counts().head(10).plot(kind='bar')"
   ]
  },
  {
   "cell_type": "code",
   "execution_count": 90,
   "metadata": {},
   "outputs": [
    {
     "data": {
      "text/plain": [
       "<matplotlib.axes._subplots.AxesSubplot at 0x280930d4978>"
      ]
     },
     "execution_count": 90,
     "metadata": {},
     "output_type": "execute_result"
    },
    {
     "data": {
      "image/png": "[encoded data removed]",
      "text/plain": [
       "<matplotlib.figure.Figure at 0x28092fbedd8>"
      ]
     },
     "metadata": {},
     "output_type": "display_data"
    }
   ],
   "source": [
    "df['Winning_Pts'].plot(kind='box')"
   ]
  },
  {
   "cell_type": "code",
   "execution_count": 91,
   "metadata": {},
   "outputs": [
    {
     "data": {
      "text/plain": [
       "<matplotlib.axes._subplots.AxesSubplot at 0x280930e1e10>"
      ]
     },
     "execution_count": 91,
     "metadata": {},
     "output_type": "execute_result"
    },
    {
     "data": {
      "image/png": "[encoded data removed]",
      "text/plain": [
       "<matplotlib.figure.Figure at 0x2809310f9e8>"
      ]
     },
     "metadata": {},
     "output_type": "display_data"
    }
   ],
   "source": [
    "df['Losing_Team'].value_counts().head(10).plot('bar')"
   ]
  },
  {
   "cell_type": "code",
   "execution_count": 92,
   "metadata": {},
   "outputs": [
    {
     "data": {
      "text/plain": [
       "<matplotlib.axes._subplots.AxesSubplot at 0x28093189710>"
      ]
     },
     "execution_count": 92,
     "metadata": {},
     "output_type": "execute_result"
    },
    {
     "data": {
      "image/png": "[encoded data removed]",
      "text/plain": [
       "<matplotlib.figure.Figure at 0x280931fd2e8>"
      ]
     },
     "metadata": {},
     "output_type": "display_data"
    }
   ],
   "source": [
    "df['Losing_Pts'].plot(kind='box')"
   ]
  },
  {
   "cell_type": "code",
   "execution_count": 110,
   "metadata": {},
   "outputs": [
    {
     "data": {
      "text/plain": [
       "<matplotlib.axes._subplots.AxesSubplot at 0x2809741ebe0>"
      ]
     },
     "execution_count": 110,
     "metadata": {},
     "output_type": "execute_result"
    },
    {
     "data": {
      "image/png": "[encoded data removed]",
      "text/plain": [
       "<matplotlib.figure.Figure at 0x280973b77f0>"
      ]
     },
     "metadata": {},
     "output_type": "display_data"
    }
   ],
   "source": [
    "df['Stadium'].value_counts().head(10).plot('bar')"
   ]
  },
  {
   "cell_type": "code",
   "execution_count": 109,
   "metadata": {},
   "outputs": [
    {
     "data": {
      "text/plain": [
       "<matplotlib.axes._subplots.AxesSubplot at 0x280973359b0>"
      ]
     },
     "execution_count": 109,
     "metadata": {},
     "output_type": "execute_result"
    },
    {
     "data": {
      "image/png": "[encoded data removed]",
      "text/plain": [
       "<matplotlib.figure.Figure at 0x28097326160>"
      ]
     },
     "metadata": {},
     "output_type": "display_data"
    }
   ],
   "source": [
    "df['State'].value_counts().head(10).plot('bar')"
   ]
  },
  {
   "cell_type": "code",
   "execution_count": 113,
   "metadata": {},
   "outputs": [
    {
     "data": {
      "text/plain": [
       "<matplotlib.axes._subplots.AxesSubplot at 0x28097cd4940>"
      ]
     },
     "execution_count": 113,
     "metadata": {},
     "output_type": "execute_result"
    },
    {
     "data": {
      "image/png": "[encoded data removed]",
      "text/plain": [
       "<matplotlib.figure.Figure at 0x28097606208>"
      ]
     },
     "metadata": {},
     "output_type": "display_data"
    }
   ],
   "source": [
    "sns.countplot(x='Winning_Team', data=df, palette='Spectral')"
   ]
  },
  {
   "cell_type": "code",
   "execution_count": 112,
   "metadata": {},
   "outputs": [
    {
     "data": {
      "text/plain": [
       "<seaborn.axisgrid.PairGrid at 0x28097350160>"
      ]
     },
     "execution_count": 112,
     "metadata": {},
     "output_type": "execute_result"
    },
    {
     "data": {
      "image/png": "[encoded data removed]",
      "text/plain": [
       "<matplotlib.figure.Figure at 0x28097350da0>"
      ]
     },
     "metadata": {},
     "output_type": "display_data"
    }
   ],
   "source": [
    "sns.pairplot(data=df, hue='State', palette='Spectral')"
   ]
  },
  {
   "cell_type": "code",
   "execution_count": null,
   "metadata": {
    "collapsed": true
   },
   "outputs": [],
   "source": []
  }
 ],
 "metadata": {
  "kernelspec": {
   "display_name": "Python 3",
   "language": "python",
   "name": "python3"
  },
  "language_info": {
   "codemirror_mode": {
    "name": "ipython",
    "version": 3
   },
   "file_extension": ".py",
   "mimetype": "text/x-python",
   "name": "python",
   "nbconvert_exporter": "python",
   "pygments_lexer": "ipython3",
   "version": "3.6.1"
  }
 },
 "nbformat": 4,
 "nbformat_minor": 2
}
