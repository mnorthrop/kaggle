{
 "cells": [
  {
   "cell_type": "markdown",
   "metadata": {},
   "source": [
    "## Data Analysis of Netflix Movies and TV Shows"
   ]
  },
  {
   "cell_type": "markdown",
   "metadata": {},
   "source": [
    "1. Understanding what content is available in different countries.\n",
    "2. Identifying similar content by matching text-based features.\n",
    "3. Network Analysis of Actors/Directors and find interesting insights.\n",
    "4. Does Netflix have an increasing focus on TV rather than movies in recent years?"
   ]
  },
  {
   "cell_type": "code",
   "execution_count": 2,
   "metadata": {},
   "outputs": [
    {
     "data": {
      "text/plain": [
       "'0.20.1'"
      ]
     },
     "execution_count": 2,
     "metadata": {},
     "output_type": "execute_result"
    }
   ],
   "source": [
    "import pandas as pd\n",
    "import matplotlib.pyplot as plt\n",
    "%matplotlib inline\n",
    "pd.__version__"
   ]
  },
  {
   "cell_type": "markdown",
   "metadata": {},
   "source": [
    "### Read Data"
   ]
  },
  {
   "cell_type": "code",
   "execution_count": 41,
   "metadata": {},
   "outputs": [
    {
     "data": {
      "text/html": [
       "<div>\n",
       "<style>\n",
       "    .dataframe thead tr:only-child th {\n",
       "        text-align: right;\n",
       "    }\n",
       "\n",
       "    .dataframe thead th {\n",
       "        text-align: left;\n",
       "    }\n",
       "\n",
       "    .dataframe tbody tr th {\n",
       "        vertical-align: top;\n",
       "    }\n",
       "</style>\n",
       "<table border=\"1\" class=\"dataframe\">\n",
       "  <thead>\n",
       "    <tr style=\"text-align: right;\">\n",
       "      <th></th>\n",
       "      <th>show_id</th>\n",
       "      <th>type</th>\n",
       "      <th>title</th>\n",
       "      <th>director</th>\n",
       "      <th>cast</th>\n",
       "      <th>country</th>\n",
       "      <th>date_added</th>\n",
       "      <th>release_year</th>\n",
       "      <th>rating</th>\n",
       "      <th>duration</th>\n",
       "      <th>listed_in</th>\n",
       "      <th>description</th>\n",
       "    </tr>\n",
       "  </thead>\n",
       "  <tbody>\n",
       "    <tr>\n",
       "      <th>0</th>\n",
       "      <td>81145628</td>\n",
       "      <td>Movie</td>\n",
       "      <td>Norm of the North: King Sized Adventure</td>\n",
       "      <td>Richard Finn, Tim Maltby</td>\n",
       "      <td>Alan Marriott, Andrew Toth, Brian Dobson, Cole...</td>\n",
       "      <td>United States, India, South Korea, China</td>\n",
       "      <td>September 9, 2019</td>\n",
       "      <td>2019</td>\n",
       "      <td>TV-PG</td>\n",
       "      <td>90 min</td>\n",
       "      <td>Children &amp; Family Movies, Comedies</td>\n",
       "      <td>Before planning an awesome wedding for his gra...</td>\n",
       "    </tr>\n",
       "    <tr>\n",
       "      <th>1</th>\n",
       "      <td>80117401</td>\n",
       "      <td>Movie</td>\n",
       "      <td>Jandino: Whatever it Takes</td>\n",
       "      <td>NaN</td>\n",
       "      <td>Jandino Asporaat</td>\n",
       "      <td>United Kingdom</td>\n",
       "      <td>September 9, 2016</td>\n",
       "      <td>2016</td>\n",
       "      <td>TV-MA</td>\n",
       "      <td>94 min</td>\n",
       "      <td>Stand-Up Comedy</td>\n",
       "      <td>Jandino Asporaat riffs on the challenges of ra...</td>\n",
       "    </tr>\n",
       "    <tr>\n",
       "      <th>2</th>\n",
       "      <td>70234439</td>\n",
       "      <td>TV Show</td>\n",
       "      <td>Transformers Prime</td>\n",
       "      <td>NaN</td>\n",
       "      <td>Peter Cullen, Sumalee Montano, Frank Welker, J...</td>\n",
       "      <td>United States</td>\n",
       "      <td>September 8, 2018</td>\n",
       "      <td>2013</td>\n",
       "      <td>TV-Y7-FV</td>\n",
       "      <td>1 Season</td>\n",
       "      <td>Kids' TV</td>\n",
       "      <td>With the help of three human allies, the Autob...</td>\n",
       "    </tr>\n",
       "    <tr>\n",
       "      <th>3</th>\n",
       "      <td>80058654</td>\n",
       "      <td>TV Show</td>\n",
       "      <td>Transformers: Robots in Disguise</td>\n",
       "      <td>NaN</td>\n",
       "      <td>Will Friedle, Darren Criss, Constance Zimmer, ...</td>\n",
       "      <td>United States</td>\n",
       "      <td>September 8, 2018</td>\n",
       "      <td>2016</td>\n",
       "      <td>TV-Y7</td>\n",
       "      <td>1 Season</td>\n",
       "      <td>Kids' TV</td>\n",
       "      <td>When a prison ship crash unleashes hundreds of...</td>\n",
       "    </tr>\n",
       "    <tr>\n",
       "      <th>4</th>\n",
       "      <td>80125979</td>\n",
       "      <td>Movie</td>\n",
       "      <td>#realityhigh</td>\n",
       "      <td>Fernando Lebrija</td>\n",
       "      <td>Nesta Cooper, Kate Walsh, John Michael Higgins...</td>\n",
       "      <td>United States</td>\n",
       "      <td>September 8, 2017</td>\n",
       "      <td>2017</td>\n",
       "      <td>TV-14</td>\n",
       "      <td>99 min</td>\n",
       "      <td>Comedies</td>\n",
       "      <td>When nerdy high schooler Dani finally attracts...</td>\n",
       "    </tr>\n",
       "  </tbody>\n",
       "</table>\n",
       "</div>"
      ],
      "text/plain": [
       "    show_id     type                                    title  \\\n",
       "0  81145628    Movie  Norm of the North: King Sized Adventure   \n",
       "1  80117401    Movie               Jandino: Whatever it Takes   \n",
       "2  70234439  TV Show                       Transformers Prime   \n",
       "3  80058654  TV Show         Transformers: Robots in Disguise   \n",
       "4  80125979    Movie                             #realityhigh   \n",
       "\n",
       "                   director  \\\n",
       "0  Richard Finn, Tim Maltby   \n",
       "1                       NaN   \n",
       "2                       NaN   \n",
       "3                       NaN   \n",
       "4          Fernando Lebrija   \n",
       "\n",
       "                                                cast  \\\n",
       "0  Alan Marriott, Andrew Toth, Brian Dobson, Cole...   \n",
       "1                                   Jandino Asporaat   \n",
       "2  Peter Cullen, Sumalee Montano, Frank Welker, J...   \n",
       "3  Will Friedle, Darren Criss, Constance Zimmer, ...   \n",
       "4  Nesta Cooper, Kate Walsh, John Michael Higgins...   \n",
       "\n",
       "                                    country         date_added  release_year  \\\n",
       "0  United States, India, South Korea, China  September 9, 2019          2019   \n",
       "1                            United Kingdom  September 9, 2016          2016   \n",
       "2                             United States  September 8, 2018          2013   \n",
       "3                             United States  September 8, 2018          2016   \n",
       "4                             United States  September 8, 2017          2017   \n",
       "\n",
       "     rating  duration                           listed_in  \\\n",
       "0     TV-PG    90 min  Children & Family Movies, Comedies   \n",
       "1     TV-MA    94 min                     Stand-Up Comedy   \n",
       "2  TV-Y7-FV  1 Season                            Kids' TV   \n",
       "3     TV-Y7  1 Season                            Kids' TV   \n",
       "4     TV-14    99 min                            Comedies   \n",
       "\n",
       "                                         description  \n",
       "0  Before planning an awesome wedding for his gra...  \n",
       "1  Jandino Asporaat riffs on the challenges of ra...  \n",
       "2  With the help of three human allies, the Autob...  \n",
       "3  When a prison ship crash unleashes hundreds of...  \n",
       "4  When nerdy high schooler Dani finally attracts...  "
      ]
     },
     "execution_count": 41,
     "metadata": {},
     "output_type": "execute_result"
    }
   ],
   "source": [
    "# Making a list of missing value types\n",
    "missing_values = ['n/a', 'na', '--']\n",
    "netflix = pd.read_csv('netflix_titles.csv', na_values=missing_values)\n",
    "netflix.head()"
   ]
  },
  {
   "cell_type": "markdown",
   "metadata": {},
   "source": [
    "##### Summary of Dataset"
   ]
  },
  {
   "cell_type": "code",
   "execution_count": 42,
   "metadata": {},
   "outputs": [
    {
     "name": "stdout",
     "output_type": "stream",
     "text": [
      "Rows     : 6234\n",
      "Columns  : 12\n",
      "\n",
      "Features :\n",
      "     : ['show_id', 'type', 'title', 'director', 'cast', 'country', 'date_added', 'release_year', 'rating', 'duration', 'listed_in', 'description']\n",
      "\n",
      "Missing values    : 3036\n",
      "\n",
      "Unique values :\n",
      "   show_id         6234\n",
      "type               2\n",
      "title           6172\n",
      "director        3301\n",
      "cast            5469\n",
      "country          554\n",
      "date_added      1524\n",
      "release_year      72\n",
      "rating            14\n",
      "duration         201\n",
      "listed_in        461\n",
      "description     6226\n",
      "dtype: int64\n",
      "\n",
      "Data Types :   \n",
      " show_id          int64\n",
      "type            object\n",
      "title           object\n",
      "director        object\n",
      "cast            object\n",
      "country         object\n",
      "date_added      object\n",
      "release_year     int64\n",
      "rating          object\n",
      "duration        object\n",
      "listed_in       object\n",
      "description     object\n",
      "dtype: object\n"
     ]
    }
   ],
   "source": [
    "print('Rows     :', netflix.shape[0])\n",
    "print('Columns  :', netflix.shape[1])\n",
    "print('\\nFeatures :\\n     :', netflix.columns.tolist())\n",
    "print('\\nMissing values    :', netflix.isnull().values.sum())\n",
    "print('\\nUnique values :\\n  ', netflix.nunique())\n",
    "print('\\nData Types :   \\n', netflix.dtypes)"
   ]
  },
  {
   "cell_type": "markdown",
   "metadata": {},
   "source": [
    "#### Changing to appropriate data types"
   ]
  },
  {
   "cell_type": "code",
   "execution_count": 43,
   "metadata": {},
   "outputs": [
    {
     "data": {
      "text/html": [
       "<div>\n",
       "<style>\n",
       "    .dataframe thead tr:only-child th {\n",
       "        text-align: right;\n",
       "    }\n",
       "\n",
       "    .dataframe thead th {\n",
       "        text-align: left;\n",
       "    }\n",
       "\n",
       "    .dataframe tbody tr th {\n",
       "        vertical-align: top;\n",
       "    }\n",
       "</style>\n",
       "<table border=\"1\" class=\"dataframe\">\n",
       "  <thead>\n",
       "    <tr style=\"text-align: right;\">\n",
       "      <th></th>\n",
       "      <th>show_id</th>\n",
       "      <th>type</th>\n",
       "      <th>title</th>\n",
       "      <th>director</th>\n",
       "      <th>cast</th>\n",
       "      <th>country</th>\n",
       "      <th>date_added</th>\n",
       "      <th>release_year</th>\n",
       "      <th>rating</th>\n",
       "      <th>duration</th>\n",
       "      <th>listed_in</th>\n",
       "      <th>description</th>\n",
       "      <th>year_added</th>\n",
       "    </tr>\n",
       "  </thead>\n",
       "  <tbody>\n",
       "    <tr>\n",
       "      <th>6223</th>\n",
       "      <td>70204989</td>\n",
       "      <td>TV Show</td>\n",
       "      <td>Gunslinger Girl</td>\n",
       "      <td>NaN</td>\n",
       "      <td>Yuuka Nanri, Kanako Mitsuhashi, Eri Sendai, Am...</td>\n",
       "      <td>Japan</td>\n",
       "      <td>NaT</td>\n",
       "      <td>2008</td>\n",
       "      <td>TV-14</td>\n",
       "      <td>2 Seasons</td>\n",
       "      <td>Anime Series, Crime TV Shows</td>\n",
       "      <td>On the surface, the Social Welfare Agency appe...</td>\n",
       "      <td>NaN</td>\n",
       "    </tr>\n",
       "    <tr>\n",
       "      <th>6224</th>\n",
       "      <td>70304979</td>\n",
       "      <td>TV Show</td>\n",
       "      <td>Anthony Bourdain: Parts Unknown</td>\n",
       "      <td>NaN</td>\n",
       "      <td>Anthony Bourdain</td>\n",
       "      <td>United States</td>\n",
       "      <td>NaT</td>\n",
       "      <td>2018</td>\n",
       "      <td>TV-PG</td>\n",
       "      <td>5 Seasons</td>\n",
       "      <td>Docuseries</td>\n",
       "      <td>This CNN original series has chef Anthony Bour...</td>\n",
       "      <td>NaN</td>\n",
       "    </tr>\n",
       "    <tr>\n",
       "      <th>6225</th>\n",
       "      <td>70153412</td>\n",
       "      <td>TV Show</td>\n",
       "      <td>Frasier</td>\n",
       "      <td>NaN</td>\n",
       "      <td>Kelsey Grammer, Jane Leeves, David Hyde Pierce...</td>\n",
       "      <td>United States</td>\n",
       "      <td>NaT</td>\n",
       "      <td>2003</td>\n",
       "      <td>TV-PG</td>\n",
       "      <td>11 Seasons</td>\n",
       "      <td>Classic &amp; Cult TV, TV Comedies</td>\n",
       "      <td>Frasier Crane is a snooty but lovable Seattle ...</td>\n",
       "      <td>NaN</td>\n",
       "    </tr>\n",
       "    <tr>\n",
       "      <th>6226</th>\n",
       "      <td>70243132</td>\n",
       "      <td>TV Show</td>\n",
       "      <td>La Familia P. Luche</td>\n",
       "      <td>NaN</td>\n",
       "      <td>Eugenio Derbez, Consuelo Duval, Luis Manuel Áv...</td>\n",
       "      <td>United States</td>\n",
       "      <td>NaT</td>\n",
       "      <td>2012</td>\n",
       "      <td>TV-14</td>\n",
       "      <td>3 Seasons</td>\n",
       "      <td>International TV Shows, Spanish-Language TV Sh...</td>\n",
       "      <td>This irreverent sitcom featues Ludovico, Feder...</td>\n",
       "      <td>NaN</td>\n",
       "    </tr>\n",
       "    <tr>\n",
       "      <th>6227</th>\n",
       "      <td>80005756</td>\n",
       "      <td>TV Show</td>\n",
       "      <td>The Adventures of Figaro Pho</td>\n",
       "      <td>NaN</td>\n",
       "      <td>Luke Jurevicius, Craig Behenna, Charlotte Haml...</td>\n",
       "      <td>Australia</td>\n",
       "      <td>NaT</td>\n",
       "      <td>2015</td>\n",
       "      <td>TV-Y7</td>\n",
       "      <td>2 Seasons</td>\n",
       "      <td>Kids' TV, TV Comedies</td>\n",
       "      <td>Imagine your worst fears, then multiply them: ...</td>\n",
       "      <td>NaN</td>\n",
       "    </tr>\n",
       "  </tbody>\n",
       "</table>\n",
       "</div>"
      ],
      "text/plain": [
       "       show_id     type                            title director  \\\n",
       "6223  70204989  TV Show                  Gunslinger Girl      NaN   \n",
       "6224  70304979  TV Show  Anthony Bourdain: Parts Unknown      NaN   \n",
       "6225  70153412  TV Show                          Frasier      NaN   \n",
       "6226  70243132  TV Show              La Familia P. Luche      NaN   \n",
       "6227  80005756  TV Show     The Adventures of Figaro Pho      NaN   \n",
       "\n",
       "                                                   cast        country  \\\n",
       "6223  Yuuka Nanri, Kanako Mitsuhashi, Eri Sendai, Am...          Japan   \n",
       "6224                                   Anthony Bourdain  United States   \n",
       "6225  Kelsey Grammer, Jane Leeves, David Hyde Pierce...  United States   \n",
       "6226  Eugenio Derbez, Consuelo Duval, Luis Manuel Áv...  United States   \n",
       "6227  Luke Jurevicius, Craig Behenna, Charlotte Haml...      Australia   \n",
       "\n",
       "     date_added  release_year rating    duration  \\\n",
       "6223        NaT          2008  TV-14   2 Seasons   \n",
       "6224        NaT          2018  TV-PG   5 Seasons   \n",
       "6225        NaT          2003  TV-PG  11 Seasons   \n",
       "6226        NaT          2012  TV-14   3 Seasons   \n",
       "6227        NaT          2015  TV-Y7   2 Seasons   \n",
       "\n",
       "                                              listed_in  \\\n",
       "6223                       Anime Series, Crime TV Shows   \n",
       "6224                                         Docuseries   \n",
       "6225                     Classic & Cult TV, TV Comedies   \n",
       "6226  International TV Shows, Spanish-Language TV Sh...   \n",
       "6227                              Kids' TV, TV Comedies   \n",
       "\n",
       "                                            description  year_added  \n",
       "6223  On the surface, the Social Welfare Agency appe...         NaN  \n",
       "6224  This CNN original series has chef Anthony Bour...         NaN  \n",
       "6225  Frasier Crane is a snooty but lovable Seattle ...         NaN  \n",
       "6226  This irreverent sitcom featues Ludovico, Feder...         NaN  \n",
       "6227  Imagine your worst fears, then multiply them: ...         NaN  "
      ]
     },
     "execution_count": 43,
     "metadata": {},
     "output_type": "execute_result"
    }
   ],
   "source": [
    "netflix['date_added'] = pd.to_datetime(netflix['date_added'])\n",
    "netflix['year_added'] = netflix['date_added'].dt.year\n",
    "# netflix['year_added'] = netflix['year_added'].astype(int)\n",
    "# not able to change type as there are NaN values in year_added\n",
    "netflix[netflix['year_added'].isnull()].head()"
   ]
  },
  {
   "cell_type": "code",
   "execution_count": 44,
   "metadata": {},
   "outputs": [
    {
     "data": {
      "text/plain": [
       "show_id                  int64\n",
       "type                    object\n",
       "title                   object\n",
       "director                object\n",
       "cast                    object\n",
       "country                 object\n",
       "date_added      datetime64[ns]\n",
       "release_year             int64\n",
       "rating                  object\n",
       "duration                object\n",
       "listed_in               object\n",
       "description             object\n",
       "year_added             float64\n",
       "dtype: object"
      ]
     },
     "execution_count": 44,
     "metadata": {},
     "output_type": "execute_result"
    }
   ],
   "source": [
    "# rows with 'year_added' NaN values were due to date_added NaN values\n",
    "# instead of dropping row with NaN in date, I chose to use float type\n",
    "netflix['year_added'] = netflix['year_added'].astype(float)\n",
    "netflix.dtypes"
   ]
  },
  {
   "cell_type": "markdown",
   "metadata": {},
   "source": [
    "#### Dealing with missing data"
   ]
  },
  {
   "cell_type": "code",
   "execution_count": 45,
   "metadata": {},
   "outputs": [
    {
     "data": {
      "text/plain": [
       "show_id            0\n",
       "type               0\n",
       "title              0\n",
       "director        1969\n",
       "cast             570\n",
       "country          476\n",
       "date_added        11\n",
       "release_year       0\n",
       "rating            10\n",
       "duration           0\n",
       "listed_in          0\n",
       "description        0\n",
       "year_added        11\n",
       "dtype: int64"
      ]
     },
     "execution_count": 45,
     "metadata": {},
     "output_type": "execute_result"
    }
   ],
   "source": [
    "netflix.isnull().sum()"
   ]
  },
  {
   "cell_type": "code",
   "execution_count": 46,
   "metadata": {},
   "outputs": [
    {
     "data": {
      "text/plain": [
       "array(['TV-PG', 'TV-MA', 'TV-Y7-FV', 'TV-Y7', 'TV-14', 'R', 'TV-Y', 'NR',\n",
       "       'PG-13', 'TV-G', 'PG', 'G', nan, 'UR', 'NC-17'], dtype=object)"
      ]
     },
     "execution_count": 46,
     "metadata": {},
     "output_type": "execute_result"
    }
   ],
   "source": [
    "# rating only has 10 missing values\n",
    "# what are the unique values in rating, perhaps make the missing ones into something that already exists, like 'not rated'\n",
    "netflix['rating'].unique()"
   ]
  },
  {
   "cell_type": "code",
   "execution_count": 47,
   "metadata": {},
   "outputs": [
    {
     "data": {
      "text/plain": [
       "array(['TV-PG', 'TV-MA', 'TV-Y7-FV', 'TV-Y7', 'TV-14', 'R', 'TV-Y', 'NR',\n",
       "       'PG-13', 'TV-G', 'PG', 'G', 'Unknown', 'UR', 'NC-17'], dtype=object)"
      ]
     },
     "execution_count": 47,
     "metadata": {},
     "output_type": "execute_result"
    }
   ],
   "source": [
    "# The 'Not Rated' film rating is used to indicate that a film was not submitted \n",
    "# for a rating or is an uncut version. Therefore, changing the unknown value to \n",
    "# 'NR' would be inappriate as we don't know if it was submitted or not. \n",
    "# However, nan still needs to be changed, so it shall be changed to 'Unknown'. \n",
    "netflix['rating'].fillna('Unknown', inplace=True)\n",
    "netflix['rating'].unique()"
   ]
  },
  {
   "cell_type": "code",
   "execution_count": 48,
   "metadata": {},
   "outputs": [
    {
     "data": {
      "text/plain": [
       "array(['TV-PG', 'TV-MA', 'TV-Y7-FV', 'TV-Y7', 'TV-14', 'R', 'TV-Y', 'NR',\n",
       "       'PG-13', 'TV-G', 'PG', 'G', 'Unknown', 'NC-17'], dtype=object)"
      ]
     },
     "execution_count": 48,
     "metadata": {},
     "output_type": "execute_result"
    }
   ],
   "source": [
    "# NR (Not Rated) and UR (Unrated) are often used interchangeably. Therefore, \n",
    "# we will change UR to NR. \n",
    "netflix['rating'].replace(to_replace='UR', value='NR', inplace=True)\n",
    "netflix['rating'].unique()"
   ]
  },
  {
   "cell_type": "code",
   "execution_count": 49,
   "metadata": {},
   "outputs": [
    {
     "data": {
      "text/plain": [
       "1969"
      ]
     },
     "execution_count": 49,
     "metadata": {},
     "output_type": "execute_result"
    }
   ],
   "source": [
    "# missing data for 'director'\n",
    "netflix['director'].isnull().sum()"
   ]
  },
  {
   "cell_type": "code",
   "execution_count": 50,
   "metadata": {},
   "outputs": [
    {
     "data": {
      "text/html": [
       "<div>\n",
       "<style>\n",
       "    .dataframe thead tr:only-child th {\n",
       "        text-align: right;\n",
       "    }\n",
       "\n",
       "    .dataframe thead th {\n",
       "        text-align: left;\n",
       "    }\n",
       "\n",
       "    .dataframe tbody tr th {\n",
       "        vertical-align: top;\n",
       "    }\n",
       "</style>\n",
       "<table border=\"1\" class=\"dataframe\">\n",
       "  <thead>\n",
       "    <tr style=\"text-align: right;\">\n",
       "      <th></th>\n",
       "      <th>show_id</th>\n",
       "      <th>type</th>\n",
       "      <th>title</th>\n",
       "      <th>director</th>\n",
       "      <th>cast</th>\n",
       "      <th>country</th>\n",
       "      <th>date_added</th>\n",
       "      <th>release_year</th>\n",
       "      <th>rating</th>\n",
       "      <th>duration</th>\n",
       "      <th>listed_in</th>\n",
       "      <th>description</th>\n",
       "      <th>year_added</th>\n",
       "    </tr>\n",
       "  </thead>\n",
       "  <tbody>\n",
       "    <tr>\n",
       "      <th>677</th>\n",
       "      <td>80136787</td>\n",
       "      <td>TV Show</td>\n",
       "      <td>La Femme</td>\n",
       "      <td>NaN</td>\n",
       "      <td>Zoe Tay, Ann Kok, Tiffany Leong, Tay Ping Hui,...</td>\n",
       "      <td>NaN</td>\n",
       "      <td>2017-10-16</td>\n",
       "      <td>2016</td>\n",
       "      <td>TV-14</td>\n",
       "      <td>1 Season</td>\n",
       "      <td>International TV Shows, TV Dramas</td>\n",
       "      <td>Personal desires guide the lives of a marriage...</td>\n",
       "      <td>2017.0</td>\n",
       "    </tr>\n",
       "    <tr>\n",
       "      <th>1228</th>\n",
       "      <td>81105522</td>\n",
       "      <td>TV Show</td>\n",
       "      <td>No Time for Shame</td>\n",
       "      <td>NaN</td>\n",
       "      <td>Santiago Artemis</td>\n",
       "      <td>Argentina</td>\n",
       "      <td>2019-11-19</td>\n",
       "      <td>2019</td>\n",
       "      <td>TV-MA</td>\n",
       "      <td>1 Season</td>\n",
       "      <td>International TV Shows, Reality TV, Spanish-La...</td>\n",
       "      <td>Follow Santiago Artemis, a Buenos Aires fashio...</td>\n",
       "      <td>2019.0</td>\n",
       "    </tr>\n",
       "    <tr>\n",
       "      <th>5261</th>\n",
       "      <td>80161826</td>\n",
       "      <td>Movie</td>\n",
       "      <td>2015 Dream Concert</td>\n",
       "      <td>NaN</td>\n",
       "      <td>4Minute, B1A4, BtoB, ELSIE, EXID, EXO, Got7, I...</td>\n",
       "      <td>South Korea</td>\n",
       "      <td>2017-04-28</td>\n",
       "      <td>2015</td>\n",
       "      <td>TV-PG</td>\n",
       "      <td>107 min</td>\n",
       "      <td>International Movies, Music &amp; Musicals</td>\n",
       "      <td>The world's biggest K-pop festival marked its ...</td>\n",
       "      <td>2017.0</td>\n",
       "    </tr>\n",
       "    <tr>\n",
       "      <th>2079</th>\n",
       "      <td>80222788</td>\n",
       "      <td>TV Show</td>\n",
       "      <td>Day and Night</td>\n",
       "      <td>NaN</td>\n",
       "      <td>Pan Yueming, Wang Longzheng, Liang Yuen, Lü Xi...</td>\n",
       "      <td>China</td>\n",
       "      <td>2018-03-23</td>\n",
       "      <td>2017</td>\n",
       "      <td>TV-MA</td>\n",
       "      <td>1 Season</td>\n",
       "      <td>Crime TV Shows, International TV Shows, TV Dramas</td>\n",
       "      <td>A detective assists with an investigation into...</td>\n",
       "      <td>2018.0</td>\n",
       "    </tr>\n",
       "    <tr>\n",
       "      <th>5597</th>\n",
       "      <td>80113201</td>\n",
       "      <td>TV Show</td>\n",
       "      <td>Skylanders Academy</td>\n",
       "      <td>NaN</td>\n",
       "      <td>Justin Long, Ashley Tisdale, Jonathan Banks, C...</td>\n",
       "      <td>South Korea, United States</td>\n",
       "      <td>2018-09-28</td>\n",
       "      <td>2018</td>\n",
       "      <td>TV-Y7</td>\n",
       "      <td>3 Seasons</td>\n",
       "      <td>Kids' TV, TV Comedies</td>\n",
       "      <td>Travel the vast Skylander universe in this ani...</td>\n",
       "      <td>2018.0</td>\n",
       "    </tr>\n",
       "  </tbody>\n",
       "</table>\n",
       "</div>"
      ],
      "text/plain": [
       "       show_id     type               title director  \\\n",
       "677   80136787  TV Show            La Femme      NaN   \n",
       "1228  81105522  TV Show   No Time for Shame      NaN   \n",
       "5261  80161826    Movie  2015 Dream Concert      NaN   \n",
       "2079  80222788  TV Show       Day and Night      NaN   \n",
       "5597  80113201  TV Show  Skylanders Academy      NaN   \n",
       "\n",
       "                                                   cast  \\\n",
       "677   Zoe Tay, Ann Kok, Tiffany Leong, Tay Ping Hui,...   \n",
       "1228                                   Santiago Artemis   \n",
       "5261  4Minute, B1A4, BtoB, ELSIE, EXID, EXO, Got7, I...   \n",
       "2079  Pan Yueming, Wang Longzheng, Liang Yuen, Lü Xi...   \n",
       "5597  Justin Long, Ashley Tisdale, Jonathan Banks, C...   \n",
       "\n",
       "                         country date_added  release_year rating   duration  \\\n",
       "677                          NaN 2017-10-16          2016  TV-14   1 Season   \n",
       "1228                   Argentina 2019-11-19          2019  TV-MA   1 Season   \n",
       "5261                 South Korea 2017-04-28          2015  TV-PG    107 min   \n",
       "2079                       China 2018-03-23          2017  TV-MA   1 Season   \n",
       "5597  South Korea, United States 2018-09-28          2018  TV-Y7  3 Seasons   \n",
       "\n",
       "                                              listed_in  \\\n",
       "677                   International TV Shows, TV Dramas   \n",
       "1228  International TV Shows, Reality TV, Spanish-La...   \n",
       "5261             International Movies, Music & Musicals   \n",
       "2079  Crime TV Shows, International TV Shows, TV Dramas   \n",
       "5597                              Kids' TV, TV Comedies   \n",
       "\n",
       "                                            description  year_added  \n",
       "677   Personal desires guide the lives of a marriage...      2017.0  \n",
       "1228  Follow Santiago Artemis, a Buenos Aires fashio...      2019.0  \n",
       "5261  The world's biggest K-pop festival marked its ...      2017.0  \n",
       "2079  A detective assists with an investigation into...      2018.0  \n",
       "5597  Travel the vast Skylander universe in this ani...      2018.0  "
      ]
     },
     "execution_count": 50,
     "metadata": {},
     "output_type": "execute_result"
    }
   ],
   "source": [
    "# let's take a look\n",
    "netflix[netflix['director'].isnull()].sample(5)"
   ]
  },
  {
   "cell_type": "code",
   "execution_count": 51,
   "metadata": {},
   "outputs": [
    {
     "data": {
      "text/plain": [
       "type\n",
       "Movie       128.0\n",
       "TV Show    1841.0\n",
       "Name: director, dtype: float64"
      ]
     },
     "execution_count": 51,
     "metadata": {},
     "output_type": "execute_result"
    }
   ],
   "source": [
    "# TV Shows often have multiple directors, due to them directing different \n",
    "# episodes. Are the missing values for directors TV Shows?\n",
    "netflix['director'].isnull().groupby(netflix['type']).sum()"
   ]
  },
  {
   "cell_type": "code",
   "execution_count": 55,
   "metadata": {},
   "outputs": [],
   "source": [
    "# Of the 1,969 missing values in 'director', 1,841 (94%) of them are TV Shows \n",
    "# which likely have multiple directors associated to each show and, therefore, \n",
    "# cannot name one as \"the\" director for this field. We will change the NaN values\n",
    "# for TV Shows to \"Various\". \n",
    "# netflix[(netflix['type'] == 'TV Show')].fillna('Various')\n"
   ]
  },
  {
   "cell_type": "markdown",
   "metadata": {},
   "source": [
    "##### What types do we have?"
   ]
  },
  {
   "cell_type": "code",
   "execution_count": null,
   "metadata": {},
   "outputs": [],
   "source": [
    "netflix.type.value_counts()"
   ]
  },
  {
   "cell_type": "code",
   "execution_count": null,
   "metadata": {},
   "outputs": [],
   "source": [
    "netflix.type.value_counts().plot(kind='pie', autopct='%1.f%%', startangle=90, colors=['cornflowerblue','burlywood'])"
   ]
  },
  {
   "cell_type": "code",
   "execution_count": null,
   "metadata": {},
   "outputs": [],
   "source": [
    "netflix.type.value_counts().plot(kind='barh', color=['cornflowerblue','burlywood'])"
   ]
  },
  {
   "cell_type": "code",
   "execution_count": null,
   "metadata": {},
   "outputs": [],
   "source": [
    "netflix['year_added'].dropna().astype(int).value_counts().sort_index().plot()\n",
    "netflix['date_added'].max()"
   ]
  },
  {
   "cell_type": "markdown",
   "metadata": {},
   "source": [
    "**There is not a sharp decline of titles in 2020 as there is only partial information available from 2020 in the dataset.**"
   ]
  },
  {
   "cell_type": "code",
   "execution_count": null,
   "metadata": {},
   "outputs": [],
   "source": [
    "#netflix['year_added'].dropna().astype(int).value_counts().sort_index()\n"
   ]
  },
  {
   "cell_type": "markdown",
   "metadata": {},
   "source": [
    "##### What ratings do we have?"
   ]
  },
  {
   "cell_type": "code",
   "execution_count": null,
   "metadata": {},
   "outputs": [],
   "source": [
    "netflix.rating.value_counts()"
   ]
  },
  {
   "cell_type": "markdown",
   "metadata": {},
   "source": [
    "**Separate the ratings for movies and TV**"
   ]
  },
  {
   "cell_type": "code",
   "execution_count": null,
   "metadata": {},
   "outputs": [],
   "source": [
    "netflix.rating.str.contains('TV-')"
   ]
  },
  {
   "cell_type": "markdown",
   "metadata": {},
   "source": [
    "**The following is an inaccurate listing of countries.**\n",
    "For example, \"United Kingdom, United States\" = 50. This entry, found 50 times, should be adding 50 to the count of 'United States' and 50 to the count of 'United Kingdom'. Every time 'United States' is found it should be added to the count for 'United States'. "
   ]
  },
  {
   "cell_type": "code",
   "execution_count": null,
   "metadata": {},
   "outputs": [],
   "source": [
    "netflix.groupby('country')['show_id'].count().sort_values(ascending=False)"
   ]
  },
  {
   "cell_type": "code",
   "execution_count": null,
   "metadata": {
    "collapsed": true
   },
   "outputs": [],
   "source": []
  }
 ],
 "metadata": {
  "kernelspec": {
   "display_name": "Python 3",
   "language": "python",
   "name": "python3"
  },
  "language_info": {
   "codemirror_mode": {
    "name": "ipython",
    "version": 3
   },
   "file_extension": ".py",
   "mimetype": "text/x-python",
   "name": "python",
   "nbconvert_exporter": "python",
   "pygments_lexer": "ipython3",
   "version": "3.6.1"
  }
 },
 "nbformat": 4,
 "nbformat_minor": 2
}
